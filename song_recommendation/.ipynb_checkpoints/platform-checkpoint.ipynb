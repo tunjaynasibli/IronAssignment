{
 "cells": [
  {
   "cell_type": "code",
   "execution_count": 1,
   "id": "3f4d5442",
   "metadata": {},
   "outputs": [],
   "source": [
    "import spotipy \n",
    "import json\n",
    "from spotipy.oauth2 import SpotifyClientCredentials\n",
    "import config\n",
    "import pandas as pd\n",
    "import numpy as np\n",
    "import pickle\n",
    "from sklearn import datasets \n",
    "from sklearn.preprocessing import StandardScaler\n",
    "from sklearn.cluster import KMeans\n",
    "from matplotlib import pyplot\n",
    "from sklearn.metrics import silhouette_score\n",
    "\n",
    "\n",
    "\n",
    "sp = spotipy.Spotify(auth_manager=SpotifyClientCredentials(client_id= config.client_id,\n",
    "                                                           client_secret= config.client_secret))\n"
   ]
  },
  {
   "cell_type": "code",
   "execution_count": 2,
   "id": "dd53c1e7",
   "metadata": {},
   "outputs": [
    {
     "data": {
      "text/html": [
       "<div>\n",
       "<style scoped>\n",
       "    .dataframe tbody tr th:only-of-type {\n",
       "        vertical-align: middle;\n",
       "    }\n",
       "\n",
       "    .dataframe tbody tr th {\n",
       "        vertical-align: top;\n",
       "    }\n",
       "\n",
       "    .dataframe thead th {\n",
       "        text-align: right;\n",
       "    }\n",
       "</style>\n",
       "<table border=\"1\" class=\"dataframe\">\n",
       "  <thead>\n",
       "    <tr style=\"text-align: right;\">\n",
       "      <th></th>\n",
       "      <th>Unnamed: 0</th>\n",
       "      <th>danceability</th>\n",
       "      <th>energy</th>\n",
       "      <th>key</th>\n",
       "      <th>loudness</th>\n",
       "      <th>mode</th>\n",
       "      <th>speechiness</th>\n",
       "      <th>acousticness</th>\n",
       "      <th>instrumentalness</th>\n",
       "      <th>liveness</th>\n",
       "      <th>valence</th>\n",
       "      <th>tempo</th>\n",
       "      <th>type</th>\n",
       "      <th>id</th>\n",
       "      <th>uri</th>\n",
       "      <th>track_href</th>\n",
       "      <th>analysis_url</th>\n",
       "      <th>duration_ms</th>\n",
       "      <th>time_signature</th>\n",
       "      <th>cluster</th>\n",
       "    </tr>\n",
       "  </thead>\n",
       "  <tbody>\n",
       "    <tr>\n",
       "      <th>0</th>\n",
       "      <td>0</td>\n",
       "      <td>0.701</td>\n",
       "      <td>0.425</td>\n",
       "      <td>7</td>\n",
       "      <td>-10.965</td>\n",
       "      <td>1</td>\n",
       "      <td>0.3750</td>\n",
       "      <td>0.32800</td>\n",
       "      <td>0.1300</td>\n",
       "      <td>0.1000</td>\n",
       "      <td>0.562</td>\n",
       "      <td>135.128</td>\n",
       "      <td>audio_features</td>\n",
       "      <td>2Fxmhks0bxGSBdJ92vM42m</td>\n",
       "      <td>spotify:track:2Fxmhks0bxGSBdJ92vM42m</td>\n",
       "      <td>https://api.spotify.com/v1/tracks/2Fxmhks0bxGS...</td>\n",
       "      <td>https://api.spotify.com/v1/audio-analysis/2Fxm...</td>\n",
       "      <td>194088</td>\n",
       "      <td>4</td>\n",
       "      <td>0</td>\n",
       "    </tr>\n",
       "    <tr>\n",
       "      <th>1</th>\n",
       "      <td>1</td>\n",
       "      <td>0.792</td>\n",
       "      <td>0.320</td>\n",
       "      <td>0</td>\n",
       "      <td>-16.387</td>\n",
       "      <td>0</td>\n",
       "      <td>0.3880</td>\n",
       "      <td>0.20400</td>\n",
       "      <td>0.9550</td>\n",
       "      <td>0.1060</td>\n",
       "      <td>0.590</td>\n",
       "      <td>135.000</td>\n",
       "      <td>audio_features</td>\n",
       "      <td>2ktuJSnA0K4YwRZOKYCWl6</td>\n",
       "      <td>spotify:track:2ktuJSnA0K4YwRZOKYCWl6</td>\n",
       "      <td>https://api.spotify.com/v1/tracks/2ktuJSnA0K4Y...</td>\n",
       "      <td>https://api.spotify.com/v1/audio-analysis/2ktu...</td>\n",
       "      <td>149454</td>\n",
       "      <td>4</td>\n",
       "      <td>8</td>\n",
       "    </tr>\n",
       "    <tr>\n",
       "      <th>2</th>\n",
       "      <td>2</td>\n",
       "      <td>0.612</td>\n",
       "      <td>0.797</td>\n",
       "      <td>1</td>\n",
       "      <td>-3.648</td>\n",
       "      <td>1</td>\n",
       "      <td>0.4480</td>\n",
       "      <td>0.06400</td>\n",
       "      <td>0.0000</td>\n",
       "      <td>0.2570</td>\n",
       "      <td>0.358</td>\n",
       "      <td>81.086</td>\n",
       "      <td>audio_features</td>\n",
       "      <td>3IaAYtmN8T0YIYVqnxNnVz</td>\n",
       "      <td>spotify:track:3IaAYtmN8T0YIYVqnxNnVz</td>\n",
       "      <td>https://api.spotify.com/v1/tracks/3IaAYtmN8T0Y...</td>\n",
       "      <td>https://api.spotify.com/v1/audio-analysis/3IaA...</td>\n",
       "      <td>434077</td>\n",
       "      <td>4</td>\n",
       "      <td>1</td>\n",
       "    </tr>\n",
       "    <tr>\n",
       "      <th>3</th>\n",
       "      <td>3</td>\n",
       "      <td>0.701</td>\n",
       "      <td>0.425</td>\n",
       "      <td>7</td>\n",
       "      <td>-10.965</td>\n",
       "      <td>1</td>\n",
       "      <td>0.3750</td>\n",
       "      <td>0.32800</td>\n",
       "      <td>0.1300</td>\n",
       "      <td>0.1000</td>\n",
       "      <td>0.562</td>\n",
       "      <td>135.128</td>\n",
       "      <td>audio_features</td>\n",
       "      <td>0ae2Bmei6kzUKjDVl7B7q8</td>\n",
       "      <td>spotify:track:0ae2Bmei6kzUKjDVl7B7q8</td>\n",
       "      <td>https://api.spotify.com/v1/tracks/0ae2Bmei6kzU...</td>\n",
       "      <td>https://api.spotify.com/v1/audio-analysis/0ae2...</td>\n",
       "      <td>194088</td>\n",
       "      <td>4</td>\n",
       "      <td>0</td>\n",
       "    </tr>\n",
       "    <tr>\n",
       "      <th>4</th>\n",
       "      <td>4</td>\n",
       "      <td>0.563</td>\n",
       "      <td>0.814</td>\n",
       "      <td>7</td>\n",
       "      <td>-4.219</td>\n",
       "      <td>0</td>\n",
       "      <td>0.0558</td>\n",
       "      <td>0.00983</td>\n",
       "      <td>0.0437</td>\n",
       "      <td>0.0732</td>\n",
       "      <td>0.796</td>\n",
       "      <td>140.615</td>\n",
       "      <td>audio_features</td>\n",
       "      <td>0iM1Ioz4N4p7MU1DKyqsov</td>\n",
       "      <td>spotify:track:0iM1Ioz4N4p7MU1DKyqsov</td>\n",
       "      <td>https://api.spotify.com/v1/tracks/0iM1Ioz4N4p7...</td>\n",
       "      <td>https://api.spotify.com/v1/audio-analysis/0iM1...</td>\n",
       "      <td>157832</td>\n",
       "      <td>4</td>\n",
       "      <td>6</td>\n",
       "    </tr>\n",
       "  </tbody>\n",
       "</table>\n",
       "</div>"
      ],
      "text/plain": [
       "   Unnamed: 0  danceability  energy  key  loudness  mode  speechiness  \\\n",
       "0           0         0.701   0.425    7   -10.965     1       0.3750   \n",
       "1           1         0.792   0.320    0   -16.387     0       0.3880   \n",
       "2           2         0.612   0.797    1    -3.648     1       0.4480   \n",
       "3           3         0.701   0.425    7   -10.965     1       0.3750   \n",
       "4           4         0.563   0.814    7    -4.219     0       0.0558   \n",
       "\n",
       "   acousticness  instrumentalness  liveness  valence    tempo            type  \\\n",
       "0       0.32800            0.1300    0.1000    0.562  135.128  audio_features   \n",
       "1       0.20400            0.9550    0.1060    0.590  135.000  audio_features   \n",
       "2       0.06400            0.0000    0.2570    0.358   81.086  audio_features   \n",
       "3       0.32800            0.1300    0.1000    0.562  135.128  audio_features   \n",
       "4       0.00983            0.0437    0.0732    0.796  140.615  audio_features   \n",
       "\n",
       "                       id                                   uri  \\\n",
       "0  2Fxmhks0bxGSBdJ92vM42m  spotify:track:2Fxmhks0bxGSBdJ92vM42m   \n",
       "1  2ktuJSnA0K4YwRZOKYCWl6  spotify:track:2ktuJSnA0K4YwRZOKYCWl6   \n",
       "2  3IaAYtmN8T0YIYVqnxNnVz  spotify:track:3IaAYtmN8T0YIYVqnxNnVz   \n",
       "3  0ae2Bmei6kzUKjDVl7B7q8  spotify:track:0ae2Bmei6kzUKjDVl7B7q8   \n",
       "4  0iM1Ioz4N4p7MU1DKyqsov  spotify:track:0iM1Ioz4N4p7MU1DKyqsov   \n",
       "\n",
       "                                          track_href  \\\n",
       "0  https://api.spotify.com/v1/tracks/2Fxmhks0bxGS...   \n",
       "1  https://api.spotify.com/v1/tracks/2ktuJSnA0K4Y...   \n",
       "2  https://api.spotify.com/v1/tracks/3IaAYtmN8T0Y...   \n",
       "3  https://api.spotify.com/v1/tracks/0ae2Bmei6kzU...   \n",
       "4  https://api.spotify.com/v1/tracks/0iM1Ioz4N4p7...   \n",
       "\n",
       "                                        analysis_url  duration_ms  \\\n",
       "0  https://api.spotify.com/v1/audio-analysis/2Fxm...       194088   \n",
       "1  https://api.spotify.com/v1/audio-analysis/2ktu...       149454   \n",
       "2  https://api.spotify.com/v1/audio-analysis/3IaA...       434077   \n",
       "3  https://api.spotify.com/v1/audio-analysis/0ae2...       194088   \n",
       "4  https://api.spotify.com/v1/audio-analysis/0iM1...       157832   \n",
       "\n",
       "   time_signature  cluster  \n",
       "0               4        0  \n",
       "1               4        8  \n",
       "2               4        1  \n",
       "3               4        0  \n",
       "4               4        6  "
      ]
     },
     "execution_count": 2,
     "metadata": {},
     "output_type": "execute_result"
    }
   ],
   "source": [
    "my_music = pd.read_csv(\"my_music_clustered.csv\", index_col=False)\n",
    "top100 = pd.read_csv(\"top100songs.csv\", index_col=False)\n",
    "my_music.head()\n"
   ]
  },
  {
   "cell_type": "code",
   "execution_count": 3,
   "id": "12c91ba3",
   "metadata": {},
   "outputs": [
    {
     "data": {
      "text/html": [
       "<div>\n",
       "<style scoped>\n",
       "    .dataframe tbody tr th:only-of-type {\n",
       "        vertical-align: middle;\n",
       "    }\n",
       "\n",
       "    .dataframe tbody tr th {\n",
       "        vertical-align: top;\n",
       "    }\n",
       "\n",
       "    .dataframe thead th {\n",
       "        text-align: right;\n",
       "    }\n",
       "</style>\n",
       "<table border=\"1\" class=\"dataframe\">\n",
       "  <thead>\n",
       "    <tr style=\"text-align: right;\">\n",
       "      <th></th>\n",
       "      <th>Unnamed: 0</th>\n",
       "      <th>artist</th>\n",
       "      <th>song_name</th>\n",
       "    </tr>\n",
       "  </thead>\n",
       "  <tbody>\n",
       "    <tr>\n",
       "      <th>0</th>\n",
       "      <td>0</td>\n",
       "      <td>Carolina Gaitan, Mauro Castillo, Adassa, Rhenz...</td>\n",
       "      <td>We Don't Talk About Bruno</td>\n",
       "    </tr>\n",
       "    <tr>\n",
       "      <th>1</th>\n",
       "      <td>1</td>\n",
       "      <td>Nicki Minaj X Lil Baby</td>\n",
       "      <td>Do We Have A Problem?</td>\n",
       "    </tr>\n",
       "    <tr>\n",
       "      <th>2</th>\n",
       "      <td>2</td>\n",
       "      <td>Adele</td>\n",
       "      <td>Easy On Me</td>\n",
       "    </tr>\n",
       "    <tr>\n",
       "      <th>3</th>\n",
       "      <td>3</td>\n",
       "      <td>Glass Animals</td>\n",
       "      <td>Heat Waves</td>\n",
       "    </tr>\n",
       "    <tr>\n",
       "      <th>4</th>\n",
       "      <td>4</td>\n",
       "      <td>The Kid LAROI &amp; Justin Bieber</td>\n",
       "      <td>Stay</td>\n",
       "    </tr>\n",
       "  </tbody>\n",
       "</table>\n",
       "</div>"
      ],
      "text/plain": [
       "   Unnamed: 0                                             artist  \\\n",
       "0           0  Carolina Gaitan, Mauro Castillo, Adassa, Rhenz...   \n",
       "1           1                             Nicki Minaj X Lil Baby   \n",
       "2           2                                              Adele   \n",
       "3           3                                      Glass Animals   \n",
       "4           4                      The Kid LAROI & Justin Bieber   \n",
       "\n",
       "                   song_name  \n",
       "0  We Don't Talk About Bruno  \n",
       "1      Do We Have A Problem?  \n",
       "2                 Easy On Me  \n",
       "3                 Heat Waves  \n",
       "4                       Stay  "
      ]
     },
     "execution_count": 3,
     "metadata": {},
     "output_type": "execute_result"
    }
   ],
   "source": [
    "top100.head()"
   ]
  },
  {
   "cell_type": "markdown",
   "id": "b51cb0f0",
   "metadata": {},
   "source": [
    "# Welcome to Song recommendation platform !"
   ]
  },
  {
   "cell_type": "code",
   "execution_count": 4,
   "id": "f65d44dc",
   "metadata": {},
   "outputs": [
    {
     "name": "stdout",
     "output_type": "stream",
     "text": [
      "Please provide song name: Stay\n"
     ]
    }
   ],
   "source": [
    "song_input = input(\"Please provide song name: \")"
   ]
  },
  {
   "cell_type": "code",
   "execution_count": 5,
   "id": "f85ab4ac",
   "metadata": {},
   "outputs": [
    {
     "name": "stdout",
     "output_type": "stream",
     "text": [
      "5HCyWlXZPP0y6Gqq8TgA20\n"
     ]
    }
   ],
   "source": [
    "#check if song_input is in \"hot chart\"\n",
    "\n",
    "if song_input in top100[\"song_name\"]:\n",
    "    print(\"I recommend you this song: \" + str(random.choice(top100[\"song_name\"])))\n",
    "\n",
    "else:\n",
    "   \n",
    "    results = sp.search(q=song_input,limit=1,market=\"GB\")\n",
    "    song_id = results[\"tracks\"][\"items\"][0][\"id\"]\n",
    "    print(song_id)\n",
    "\n",
    "\n",
    "    \n",
    "          "
   ]
  },
  {
   "cell_type": "code",
   "execution_count": 6,
   "id": "9658b915",
   "metadata": {},
   "outputs": [],
   "source": [
    "song_audio_features = sp.audio_features(song_id)[0]\n",
    "\n",
    "song_audio_features_df = pd.DataFrame(song_audio_features, index=[0])\n"
   ]
  },
  {
   "cell_type": "code",
   "execution_count": 7,
   "id": "52e07bc7",
   "metadata": {
    "scrolled": true
   },
   "outputs": [
    {
     "data": {
      "text/html": [
       "<div>\n",
       "<style scoped>\n",
       "    .dataframe tbody tr th:only-of-type {\n",
       "        vertical-align: middle;\n",
       "    }\n",
       "\n",
       "    .dataframe tbody tr th {\n",
       "        vertical-align: top;\n",
       "    }\n",
       "\n",
       "    .dataframe thead th {\n",
       "        text-align: right;\n",
       "    }\n",
       "</style>\n",
       "<table border=\"1\" class=\"dataframe\">\n",
       "  <thead>\n",
       "    <tr style=\"text-align: right;\">\n",
       "      <th></th>\n",
       "      <th>danceability</th>\n",
       "      <th>energy</th>\n",
       "      <th>key</th>\n",
       "      <th>loudness</th>\n",
       "      <th>mode</th>\n",
       "      <th>speechiness</th>\n",
       "      <th>acousticness</th>\n",
       "      <th>instrumentalness</th>\n",
       "      <th>liveness</th>\n",
       "      <th>valence</th>\n",
       "      <th>tempo</th>\n",
       "      <th>type</th>\n",
       "      <th>id</th>\n",
       "      <th>uri</th>\n",
       "      <th>track_href</th>\n",
       "      <th>analysis_url</th>\n",
       "      <th>duration_ms</th>\n",
       "      <th>time_signature</th>\n",
       "    </tr>\n",
       "  </thead>\n",
       "  <tbody>\n",
       "    <tr>\n",
       "      <th>0</th>\n",
       "      <td>0.591</td>\n",
       "      <td>0.764</td>\n",
       "      <td>1</td>\n",
       "      <td>-5.484</td>\n",
       "      <td>1</td>\n",
       "      <td>0.0483</td>\n",
       "      <td>0.0383</td>\n",
       "      <td>0</td>\n",
       "      <td>0.103</td>\n",
       "      <td>0.478</td>\n",
       "      <td>169.928</td>\n",
       "      <td>audio_features</td>\n",
       "      <td>5HCyWlXZPP0y6Gqq8TgA20</td>\n",
       "      <td>spotify:track:5HCyWlXZPP0y6Gqq8TgA20</td>\n",
       "      <td>https://api.spotify.com/v1/tracks/5HCyWlXZPP0y...</td>\n",
       "      <td>https://api.spotify.com/v1/audio-analysis/5HCy...</td>\n",
       "      <td>141806</td>\n",
       "      <td>4</td>\n",
       "    </tr>\n",
       "  </tbody>\n",
       "</table>\n",
       "</div>"
      ],
      "text/plain": [
       "   danceability  energy  key  loudness  mode  speechiness  acousticness  \\\n",
       "0         0.591   0.764    1    -5.484     1       0.0483        0.0383   \n",
       "\n",
       "   instrumentalness  liveness  valence    tempo            type  \\\n",
       "0                 0     0.103    0.478  169.928  audio_features   \n",
       "\n",
       "                       id                                   uri  \\\n",
       "0  5HCyWlXZPP0y6Gqq8TgA20  spotify:track:5HCyWlXZPP0y6Gqq8TgA20   \n",
       "\n",
       "                                          track_href  \\\n",
       "0  https://api.spotify.com/v1/tracks/5HCyWlXZPP0y...   \n",
       "\n",
       "                                        analysis_url  duration_ms  \\\n",
       "0  https://api.spotify.com/v1/audio-analysis/5HCy...       141806   \n",
       "\n",
       "   time_signature  \n",
       "0               4  "
      ]
     },
     "execution_count": 7,
     "metadata": {},
     "output_type": "execute_result"
    }
   ],
   "source": [
    "song_audio_features_df"
   ]
  },
  {
   "cell_type": "code",
   "execution_count": 8,
   "id": "fc533542",
   "metadata": {},
   "outputs": [
    {
     "data": {
      "text/html": [
       "<div>\n",
       "<style scoped>\n",
       "    .dataframe tbody tr th:only-of-type {\n",
       "        vertical-align: middle;\n",
       "    }\n",
       "\n",
       "    .dataframe tbody tr th {\n",
       "        vertical-align: top;\n",
       "    }\n",
       "\n",
       "    .dataframe thead th {\n",
       "        text-align: right;\n",
       "    }\n",
       "</style>\n",
       "<table border=\"1\" class=\"dataframe\">\n",
       "  <thead>\n",
       "    <tr style=\"text-align: right;\">\n",
       "      <th></th>\n",
       "      <th>danceability</th>\n",
       "      <th>energy</th>\n",
       "      <th>key</th>\n",
       "      <th>loudness</th>\n",
       "      <th>mode</th>\n",
       "      <th>speechiness</th>\n",
       "      <th>acousticness</th>\n",
       "      <th>instrumentalness</th>\n",
       "      <th>liveness</th>\n",
       "      <th>valence</th>\n",
       "      <th>tempo</th>\n",
       "      <th>duration_ms</th>\n",
       "      <th>time_signature</th>\n",
       "    </tr>\n",
       "  </thead>\n",
       "  <tbody>\n",
       "    <tr>\n",
       "      <th>0</th>\n",
       "      <td>0.591</td>\n",
       "      <td>0.764</td>\n",
       "      <td>1</td>\n",
       "      <td>-5.484</td>\n",
       "      <td>1</td>\n",
       "      <td>0.0483</td>\n",
       "      <td>0.0383</td>\n",
       "      <td>0</td>\n",
       "      <td>0.103</td>\n",
       "      <td>0.478</td>\n",
       "      <td>169.928</td>\n",
       "      <td>141806</td>\n",
       "      <td>4</td>\n",
       "    </tr>\n",
       "  </tbody>\n",
       "</table>\n",
       "</div>"
      ],
      "text/plain": [
       "   danceability  energy  key  loudness  mode  speechiness  acousticness  \\\n",
       "0         0.591   0.764    1    -5.484     1       0.0483        0.0383   \n",
       "\n",
       "   instrumentalness  liveness  valence    tempo  duration_ms  time_signature  \n",
       "0                 0     0.103    0.478  169.928       141806               4  "
      ]
     },
     "execution_count": 8,
     "metadata": {},
     "output_type": "execute_result"
    }
   ],
   "source": [
    "song_x = song_audio_features_df.select_dtypes(np.number)\n",
    "song_x"
   ]
  },
  {
   "cell_type": "code",
   "execution_count": 13,
   "id": "63b503e3",
   "metadata": {},
   "outputs": [],
   "source": [
    " with open(\"scaler.pickle\", \"rb\") as f: \n",
    "            scaler = pickle.load(f) \n",
    "            \n",
    " with open(\"kmeans.pickle\", \"rb\") as f: \n",
    "            kmeans = pickle.load(f) "
   ]
  },
  {
   "cell_type": "code",
   "execution_count": 14,
   "id": "5751eba3",
   "metadata": {},
   "outputs": [
    {
     "data": {
      "text/plain": [
       "array([[-0.5395991 ,  0.39459115, -1.17505654,  0.24168429,  0.90274059,\n",
       "        -0.55725993, -0.57939972, -0.21374969, -0.59211558, -0.16809605,\n",
       "         1.81024013, -1.649167  ,  0.07868127]])"
      ]
     },
     "execution_count": 14,
     "metadata": {},
     "output_type": "execute_result"
    }
   ],
   "source": [
    "#scaler.fit(song_audio_features_df(np.number))\n",
    "song_scaled = scaler.transform(song_x)\n",
    "song_scaled"
   ]
  },
  {
   "cell_type": "code",
   "execution_count": 15,
   "id": "a301da30",
   "metadata": {},
   "outputs": [
    {
     "name": "stderr",
     "output_type": "stream",
     "text": [
      "/Users/tuncaynasibli/opt/anaconda3/envs/DA_Env/lib/python3.9/site-packages/sklearn/base.py:450: UserWarning: X does not have valid feature names, but KMeans was fitted with feature names\n",
      "  warnings.warn(\n"
     ]
    },
    {
     "data": {
      "text/plain": [
       "array([4], dtype=int32)"
      ]
     },
     "execution_count": 15,
     "metadata": {},
     "output_type": "execute_result"
    }
   ],
   "source": [
    "kmeans.predict(song_scaled)"
   ]
  },
  {
   "cell_type": "code",
   "execution_count": 16,
   "id": "dc8f57de",
   "metadata": {},
   "outputs": [
    {
     "name": "stderr",
     "output_type": "stream",
     "text": [
      "/Users/tuncaynasibli/opt/anaconda3/envs/DA_Env/lib/python3.9/site-packages/sklearn/base.py:450: UserWarning: X does not have valid feature names, but KMeans was fitted with feature names\n",
      "  warnings.warn(\n"
     ]
    }
   ],
   "source": [
    "output_features = my_music[my_music[\"cluster\"] == kmeans.predict(song_scaled)[0]].sample()"
   ]
  },
  {
   "cell_type": "code",
   "execution_count": 20,
   "id": "e788d684",
   "metadata": {},
   "outputs": [],
   "source": [
    "track_idd = output_features[\"id\"].iat[0]\n",
    "\n"
   ]
  },
  {
   "cell_type": "code",
   "execution_count": 21,
   "id": "d3969b30",
   "metadata": {},
   "outputs": [
    {
     "data": {
      "text/html": [
       "\n",
       "        <iframe\n",
       "            width=\"320\"\n",
       "            height=\"80\"\n",
       "            src=\"https://open.spotify.com/embed/track/0sfSB2f2wsTY0Ge5XMIP4p?frameborder=0&allowtransparency=true&allow=encrypted-media\"\n",
       "            frameborder=\"0\"\n",
       "            allowfullscreen\n",
       "            \n",
       "        ></iframe>\n",
       "        "
      ],
      "text/plain": [
       "<IPython.lib.display.IFrame at 0x7f9d48ec8d60>"
      ]
     },
     "execution_count": 21,
     "metadata": {},
     "output_type": "execute_result"
    }
   ],
   "source": [
    "from IPython.display import IFrame\n",
    "\n",
    "#track_id = \"1rfORa9iYmocEsnnZGMVC4\"\n",
    "\n",
    "IFrame(src=\"https://open.spotify.com/embed/track/\"+track_idd,\n",
    "       width=\"320\",\n",
    "       height=\"80\",\n",
    "       frameborder=\"0\",\n",
    "       allowtransparency=\"true\",\n",
    "       allow=\"encrypted-media\",\n",
    "      )"
   ]
  },
  {
   "cell_type": "code",
   "execution_count": null,
   "id": "8ad988be",
   "metadata": {},
   "outputs": [],
   "source": []
  }
 ],
 "metadata": {
  "kernelspec": {
   "display_name": "Python 3 (ipykernel)",
   "language": "python",
   "name": "python3"
  },
  "language_info": {
   "codemirror_mode": {
    "name": "ipython",
    "version": 3
   },
   "file_extension": ".py",
   "mimetype": "text/x-python",
   "name": "python",
   "nbconvert_exporter": "python",
   "pygments_lexer": "ipython3",
   "version": "3.9.7"
  }
 },
 "nbformat": 4,
 "nbformat_minor": 5
}

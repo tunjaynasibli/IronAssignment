{
 "cells": [
  {
   "cell_type": "code",
   "execution_count": 62,
   "id": "3f4d5442",
   "metadata": {},
   "outputs": [],
   "source": [
    "import spotipy \n",
    "import json\n",
    "from spotipy.oauth2 import SpotifyClientCredentials\n",
    "import config\n",
    "import pandas as pd\n",
    "import numpy as np\n",
    "import pickle\n",
    "import random\n",
    "from sklearn import datasets \n",
    "from sklearn.preprocessing import StandardScaler\n",
    "from sklearn.cluster import KMeans\n",
    "from matplotlib import pyplot\n",
    "from sklearn.metrics import silhouette_score\n",
    "from spellchecker import SpellChecker\n",
    "\n",
    "\n",
    "spell = SpellChecker()\n",
    "\n",
    "\n",
    "\n",
    "sp = spotipy.Spotify(auth_manager=SpotifyClientCredentials(client_id= config.client_id,\n",
    "                                                           client_secret= config.client_secret))\n",
    "\n",
    "my_music = pd.read_csv(\"my_music_clustered.csv\", index_col=False)\n",
    "top100 = pd.read_csv(\"top100songs.csv\", index_col=False)\n",
    "\n"
   ]
  },
  {
   "cell_type": "code",
   "execution_count": 63,
   "id": "6e4e46c8",
   "metadata": {},
   "outputs": [],
   "source": [
    " with open(\"scaler.pickle\", \"rb\") as f: \n",
    "            scaler = pickle.load(f) \n",
    "            \n",
    " with open(\"kmeans.pickle\", \"rb\") as f: \n",
    "            kmeans = pickle.load(f) "
   ]
  },
  {
   "cell_type": "markdown",
   "id": "01138ad9",
   "metadata": {},
   "source": [
    "# Welcome to Song recommendation platform !"
   ]
  },
  {
   "cell_type": "code",
   "execution_count": 92,
   "id": "f65d44dc",
   "metadata": {
    "scrolled": true
   },
   "outputs": [
    {
     "name": "stdout",
     "output_type": "stream",
     "text": [
      "Please provide song name: What a Wonderful World\n"
     ]
    }
   ],
   "source": [
    "song_input = str(input(\"Please provide song name: \"))"
   ]
  },
  {
   "cell_type": "code",
   "execution_count": 93,
   "id": "f85ab4ac",
   "metadata": {},
   "outputs": [
    {
     "name": "stderr",
     "output_type": "stream",
     "text": [
      "/Users/tuncaynasibli/opt/anaconda3/envs/DA_Env/lib/python3.9/site-packages/sklearn/base.py:450: UserWarning: X does not have valid feature names, but KMeans was fitted with feature names\n",
      "  warnings.warn(\n",
      "/Users/tuncaynasibli/opt/anaconda3/envs/DA_Env/lib/python3.9/site-packages/sklearn/base.py:450: UserWarning: X does not have valid feature names, but KMeans was fitted with feature names\n",
      "  warnings.warn(\n"
     ]
    }
   ],
   "source": [
    "#check if spelling is correct, if not correct it!\n",
    "for word in spell.unknown([song_input]):\n",
    "   correct_word = spell.correction(word)\n",
    "\n",
    "#check if song_input is in \"hot chart\"\n",
    "\n",
    "if correct_word.lower() in list(top100[\"song_name\"]):\n",
    "    print(\"I recommend you this song: \" + str(random.choice(top100[\"song_name\"])))\n",
    "\n",
    "else:\n",
    "   \n",
    "    results = sp.search(q=correct_word,limit=1,market=\"GB\")\n",
    "    song_id = results[\"tracks\"][\"items\"][0][\"id\"]\n",
    "    song_audio_features = sp.audio_features(song_id)[0]\n",
    "    song_audio_features_df = pd.DataFrame(song_audio_features, index=[0])\n",
    "    song_x = song_audio_features_df.select_dtypes(np.number)\n",
    "    song_scaled = scaler.transform(song_x)\n",
    "    kmeans.predict(song_scaled)\n",
    "    output_features = my_music[my_music[\"cluster\"] == kmeans.predict(song_scaled)[0]].sample()\n",
    "    track_idd = output_features[\"id\"].iat[0]\n",
    "\n",
    "\n",
    "\n",
    "\n",
    "    \n",
    "          "
   ]
  },
  {
   "cell_type": "code",
   "execution_count": 94,
   "id": "d3969b30",
   "metadata": {},
   "outputs": [
    {
     "data": {
      "text/html": [
       "\n",
       "        <iframe\n",
       "            width=\"320\"\n",
       "            height=\"80\"\n",
       "            src=\"https://open.spotify.com/embed/track/7kOJsVkJXvLQPQ9osGWeKd?frameborder=0&allowtransparency=true&allow=encrypted-media\"\n",
       "            frameborder=\"0\"\n",
       "            allowfullscreen\n",
       "            \n",
       "        ></iframe>\n",
       "        "
      ],
      "text/plain": [
       "<IPython.lib.display.IFrame at 0x7f8605801040>"
      ]
     },
     "execution_count": 94,
     "metadata": {},
     "output_type": "execute_result"
    }
   ],
   "source": [
    "from IPython.display import IFrame\n",
    "\n",
    "#track_id = \"1rfORa9iYmocEsnnZGMVC4\"\n",
    "\n",
    "IFrame(src=\"https://open.spotify.com/embed/track/\"+track_idd,\n",
    "       width=\"320\",\n",
    "       height=\"80\",\n",
    "       frameborder=\"0\",\n",
    "       allowtransparency=\"true\",\n",
    "       allow=\"encrypted-media\",\n",
    "      )"
   ]
  },
  {
   "cell_type": "code",
   "execution_count": null,
   "id": "8ad988be",
   "metadata": {},
   "outputs": [],
   "source": []
  }
 ],
 "metadata": {
  "kernelspec": {
   "display_name": "Python 3 (ipykernel)",
   "language": "python",
   "name": "python3"
  },
  "language_info": {
   "codemirror_mode": {
    "name": "ipython",
    "version": 3
   },
   "file_extension": ".py",
   "mimetype": "text/x-python",
   "name": "python",
   "nbconvert_exporter": "python",
   "pygments_lexer": "ipython3",
   "version": "3.9.7"
  }
 },
 "nbformat": 4,
 "nbformat_minor": 5
}

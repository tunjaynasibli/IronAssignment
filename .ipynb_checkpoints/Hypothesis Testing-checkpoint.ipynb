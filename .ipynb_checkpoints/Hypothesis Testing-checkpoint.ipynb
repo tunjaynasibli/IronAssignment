{
 "cells": [
  {
   "cell_type": "markdown",
   "id": "9224df2d",
   "metadata": {},
   "source": [
    "\n",
    "It is assumed that the mean systolic blood pressure is μ = 120 mm Hg. \n",
    "In the Honolulu Heart Study, a sample of n = 100 people had an average systolic blood pressure of 130.1 mm Hg \n",
    "with a standard deviation of 21.21 mm Hg. Is the group significantly different \n",
    "(with respect to systolic blood pressure!) from the regular population?\n",
    "\n",
    "Set up the hypothesis test.\n",
    "Write down all the steps followed for setting up the test.\n",
    "Calculate the test statistic by hand and also code it in Python. \n",
    "It should be 4.76190. What decision can you make based on this calculated value?"
   ]
  },
  {
   "cell_type": "code",
   "execution_count": 1,
   "id": "92295926",
   "metadata": {},
   "outputs": [],
   "source": [
    "## μ = 120 mm Hg\n",
    "## n = 100\n",
    "## x(mean) = 130.1 mm\n",
    "## x(std) = 21.21 mm\n"
   ]
  },
  {
   "cell_type": "code",
   "execution_count": 2,
   "id": "465dd7ca",
   "metadata": {},
   "outputs": [],
   "source": [
    "import numpy as np\n",
    "import pandas as pd\n",
    "import scipy.stats as stats\n",
    "import matplotlib.pyplot as plt\n",
    "import seaborn as sns\n",
    "\n",
    "%matplotlib inline"
   ]
  },
  {
   "cell_type": "code",
   "execution_count": 4,
   "id": "6eb7ce82",
   "metadata": {},
   "outputs": [],
   "source": [
    "## H0: group is not significantly different Sx = 120 mm\n",
    "## Ha: group is significantly different Sx != 120 mm"
   ]
  },
  {
   "cell_type": "code",
   "execution_count": 5,
   "id": "4aa91395",
   "metadata": {},
   "outputs": [
    {
     "name": "stdout",
     "output_type": "stream",
     "text": [
      "Our z score is: 4.76\n"
     ]
    }
   ],
   "source": [
    "# Let's compute the standard error:\n",
    "samp_size = 100 ## 100>30 so, normal distribution\n",
    "sample_mean = 130.1\n",
    "pop_mean = 120\n",
    "pop_std_dev = 21.21\n",
    "\n",
    "z = ( sample_mean - pop_mean ) / ( pop_std_dev / np.sqrt(samp_size) )\n",
    "print(\"Our z score is: {:.2f}\".format(z))"
   ]
  },
  {
   "cell_type": "code",
   "execution_count": 6,
   "id": "a1ba1071",
   "metadata": {},
   "outputs": [
    {
     "name": "stdout",
     "output_type": "stream",
     "text": [
      "Our zc score is: 1.64\n"
     ]
    }
   ],
   "source": [
    "zc = stats.norm.ppf(.95)\n",
    "print(\"Our zc score is: {:.2f}\".format(zc))"
   ]
  },
  {
   "cell_type": "code",
   "execution_count": null,
   "id": "6d65e7a4",
   "metadata": {},
   "outputs": [],
   "source": []
  },
  {
   "cell_type": "markdown",
   "id": "30f295aa",
   "metadata": {},
   "source": [
    "conculsion: we reject the null hypothesis. average score differes from 100\n",
    "\n"
   ]
  },
  {
   "cell_type": "code",
   "execution_count": null,
   "id": "9fa8b6d8",
   "metadata": {},
   "outputs": [],
   "source": []
  }
 ],
 "metadata": {
  "kernelspec": {
   "display_name": "Python 3 (ipykernel)",
   "language": "python",
   "name": "python3"
  },
  "language_info": {
   "codemirror_mode": {
    "name": "ipython",
    "version": 3
   },
   "file_extension": ".py",
   "mimetype": "text/x-python",
   "name": "python",
   "nbconvert_exporter": "python",
   "pygments_lexer": "ipython3",
   "version": "3.9.7"
  }
 },
 "nbformat": 4,
 "nbformat_minor": 5
}

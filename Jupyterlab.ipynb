{
 "cells": [
  {
   "cell_type": "markdown",
   "id": "90488c7f",
   "metadata": {
    "slideshow": {
     "slide_type": "slide"
    }
   },
   "source": [
    "### Table of Contents\n",
    "\n",
    "* [About myself](#chapter1)\n",
    "   \n",
    "* [The city](#chapter2)\n",
    "   \n",
    "* [Other](#chapter3)   "
   ]
  },
  {
   "cell_type": "markdown",
   "id": "85f41317",
   "metadata": {
    "slideshow": {
     "slide_type": "subslide"
    }
   },
   "source": [
    "### About myself <a class=\"anchor\" id=\"chapter1\"></a>"
   ]
  },
  {
   "cell_type": "markdown",
   "id": "c78b25fe",
   "metadata": {
    "slideshow": {
     "slide_type": "slide"
    }
   },
   "source": [
    "Hi, my name is Tunjay. "
   ]
  },
  {
   "cell_type": "code",
   "execution_count": 2,
   "id": "1f6b3bd7",
   "metadata": {
    "scrolled": true,
    "slideshow": {
     "slide_type": "slide"
    }
   },
   "outputs": [
    {
     "name": "stdout",
     "output_type": "stream",
     "text": [
      "Please enter name of your hero: Tunjay\n"
     ]
    },
    {
     "data": {
      "text/plain": [
       "'Tunjay'"
      ]
     },
     "execution_count": 2,
     "metadata": {},
     "output_type": "execute_result"
    }
   ],
   "source": [
    "input(\"Please enter name of your hero: \")"
   ]
  },
  {
   "cell_type": "markdown",
   "id": "1c0ef8b0",
   "metadata": {
    "slideshow": {
     "slide_type": "subslide"
    }
   },
   "source": [
    "### The City <a class=\"anchor\" id=\"chapter2\"></a>"
   ]
  },
  {
   "cell_type": "markdown",
   "id": "a5570f2a",
   "metadata": {
    "slideshow": {
     "slide_type": "slide"
    }
   },
   "source": [
    "![alt text](https://image.geo.de/30890398/t/Pg/v3/w1440/r1.5/-/baku---zentrum-adobestock-106778505.jpg)"
   ]
  },
  {
   "cell_type": "code",
   "execution_count": 3,
   "id": "09da0449",
   "metadata": {
    "slideshow": {
     "slide_type": "slide"
    }
   },
   "outputs": [
    {
     "name": "stdout",
     "output_type": "stream",
     "text": [
      "Please enter a destination: Baku\n"
     ]
    },
    {
     "data": {
      "text/plain": [
       "'Baku'"
      ]
     },
     "execution_count": 3,
     "metadata": {},
     "output_type": "execute_result"
    }
   ],
   "source": [
    "input(\"Please enter a destination: \")"
   ]
  },
  {
   "cell_type": "markdown",
   "id": "461e14bd",
   "metadata": {
    "slideshow": {
     "slide_type": "slide"
    }
   },
   "source": [
    "- Walking at the boulevard\n",
    "- Watching Formula 1\n",
    "- Eating delicious food"
   ]
  },
  {
   "cell_type": "markdown",
   "id": "755d9199",
   "metadata": {
    "slideshow": {
     "slide_type": "slide"
    }
   },
   "source": [
    "*The city has 5 million population*"
   ]
  },
  {
   "cell_type": "markdown",
   "id": "ab1b70d2",
   "metadata": {
    "slideshow": {
     "slide_type": "slide"
    }
   },
   "source": [
    "**It is biggest city in Azerbaijan**"
   ]
  },
  {
   "cell_type": "markdown",
   "id": "d87e2d96",
   "metadata": {
    "slideshow": {
     "slide_type": "fragment"
    }
   },
   "source": [
    "Flag of Azerbaijan consist of <font color='red'>red</font>, <font color='blue'>blue</font> and <font color='green'>green</font>.\n",
    "\n",
    "\n"
   ]
  },
  {
   "cell_type": "markdown",
   "id": "c404f76b",
   "metadata": {
    "slideshow": {
     "slide_type": "subslide"
    }
   },
   "source": [
    "[Link to the video](https://www.youtube.com/watch?v=Lu6NPnQTJTw)"
   ]
  },
  {
   "cell_type": "markdown",
   "id": "22405687",
   "metadata": {
    "slideshow": {
     "slide_type": "subslide"
    }
   },
   "source": [
    "### Other <a class=\"anchor\" id=\"chapter3\"></a>"
   ]
  },
  {
   "cell_type": "markdown",
   "id": "d24c62a7",
   "metadata": {
    "slideshow": {
     "slide_type": "slide"
    }
   },
   "source": [
    "- [ ] Visit museums\n",
    "- [ ] Eat nice food\n",
    "- [ ] Talk to local people"
   ]
  },
  {
   "cell_type": "code",
   "execution_count": null,
   "id": "5d126b94",
   "metadata": {
    "slideshow": {
     "slide_type": "skip"
    }
   },
   "outputs": [],
   "source": []
  }
 ],
 "metadata": {
  "celltoolbar": "Slideshow",
  "kernelspec": {
   "display_name": "Python 3 (ipykernel)",
   "language": "python",
   "name": "python3"
  },
  "language_info": {
   "codemirror_mode": {
    "name": "ipython",
    "version": 3
   },
   "file_extension": ".py",
   "mimetype": "text/x-python",
   "name": "python",
   "nbconvert_exporter": "python",
   "pygments_lexer": "ipython3",
   "version": "3.9.7"
  }
 },
 "nbformat": 4,
 "nbformat_minor": 5
}

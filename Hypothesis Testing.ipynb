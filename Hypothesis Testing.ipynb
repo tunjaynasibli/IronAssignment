{
 "cells": [
  {
   "cell_type": "markdown",
   "id": "9224df2d",
   "metadata": {},
   "source": [
    "\n",
    "It is assumed that the mean systolic blood pressure is μ = 120 mm Hg. \n",
    "In the Honolulu Heart Study, a sample of n = 100 people had an average systolic blood pressure of 130.1 mm Hg \n",
    "with a standard deviation of 21.21 mm Hg. Is the group significantly different \n",
    "(with respect to systolic blood pressure!) from the regular population?\n",
    "\n",
    "Set up the hypothesis test.\n",
    "Write down all the steps followed for setting up the test.\n",
    "Calculate the test statistic by hand and also code it in Python. \n",
    "It should be 4.76190. What decision can you make based on this calculated value?"
   ]
  },
  {
   "cell_type": "code",
   "execution_count": 46,
   "id": "92295926",
   "metadata": {},
   "outputs": [],
   "source": [
    "## μ = 120 mm Hg\n",
    "## n = 100\n",
    "## x(mean) = 130.1 mm\n",
    "## x(std) = 21.21 mm\n"
   ]
  },
  {
   "cell_type": "code",
   "execution_count": 47,
   "id": "465dd7ca",
   "metadata": {},
   "outputs": [],
   "source": [
    "import numpy as np\n",
    "import pandas as pd\n",
    "import scipy.stats as stats\n",
    "import matplotlib.pyplot as plt\n",
    "import seaborn as sns\n",
    "\n",
    "%matplotlib inline"
   ]
  },
  {
   "cell_type": "code",
   "execution_count": 48,
   "id": "4c7eaaec",
   "metadata": {},
   "outputs": [],
   "source": [
    "def visual_test(statistic, critical, dist = 'Norm', df = 0):\n",
    "    '''\n",
    "    Function to plot the normal or the t-student distribution \n",
    "    showing the location of the critical values and the statistic location.\n",
    "    Inputs:\n",
    "        statistic -> user's statistic\n",
    "        critical  -> critical value\n",
    "    Parameter:\n",
    "        dist -> distribution to use\n",
    "        df   -> degrees of freedom\n",
    "    Outputs:\n",
    "        Plots the corresponding distribution showin the user statistic location and the critical value.\n",
    "    '''\n",
    "\n",
    "    mu = 0\n",
    "    sigma = 1\n",
    "\n",
    "    x = np.linspace(mu - 4*sigma, mu + 4*sigma, 100)\n",
    "    x0 = np.linspace(mu - 4*sigma, mu + 4*sigma, 100)\n",
    "\n",
    "    if ( dist == 'Norm' ):\n",
    "        plt.plot(x, stats.norm.pdf(x, mu, sigma))\n",
    "        plt.fill_between(x0,stats.norm.pdf(x, mu, sigma),where = (x < -critical),facecolor='red')\n",
    "        plt.fill_between(x0,stats.norm.pdf(x, mu, sigma),where = (x > critical),facecolor='red')\n",
    "    else:\n",
    "        if ( df == 0 ):\n",
    "            while ( df == 0 or type(df) != int):\n",
    "                try:\n",
    "                    df = int(input(\"Set the correct value of degrees of freedom please: \" )) \n",
    "                except:\n",
    "                    df = 0       \n",
    "        plt.plot(x, stats.t.pdf(x,df))\n",
    "        plt.fill_between(x0,stats.t.pdf(x,df),where = (x < -critical),facecolor='red')\n",
    "        plt.fill_between(x0,stats.t.pdf(x,df),where = (x > critical),facecolor='red')\n",
    "\n",
    "    plt.axvline(-critical, c = 'r')\n",
    "    plt.axvline(critical, c = 'r')\n",
    "    plt.axvline(-statistic,c='b')\n",
    "    plt.axvline(statistic,c='b')\n",
    "\n",
    "    plt.show()"
   ]
  },
  {
   "cell_type": "code",
   "execution_count": 49,
   "id": "6eb7ce82",
   "metadata": {},
   "outputs": [],
   "source": [
    "## H0: group is not significantly different Sx = 120 mm\n",
    "## Ha: group is significantly different Sx != 120 mm"
   ]
  },
  {
   "cell_type": "code",
   "execution_count": 50,
   "id": "4aa91395",
   "metadata": {},
   "outputs": [
    {
     "name": "stdout",
     "output_type": "stream",
     "text": [
      "Our z score is: 4.76\n"
     ]
    }
   ],
   "source": [
    "# Let's compute the standard error:\n",
    "samp_size = 100 ## 100>30 so, normal distribution\n",
    "sample_mean = 130.1\n",
    "pop_mean = 120\n",
    "pop_std_dev = 21.21\n",
    "\n",
    "z = ( sample_mean - pop_mean ) / ( pop_std_dev / np.sqrt(samp_size) )\n",
    "print(\"Our z score is: {:.2f}\".format(z))"
   ]
  },
  {
   "cell_type": "code",
   "execution_count": 51,
   "id": "a1ba1071",
   "metadata": {},
   "outputs": [
    {
     "name": "stdout",
     "output_type": "stream",
     "text": [
      "Our zc score is: 1.64\n"
     ]
    }
   ],
   "source": [
    "zc = stats.norm.ppf(.95)\n",
    "print(\"Our zc score is: {:.2f}\".format(zc))"
   ]
  },
  {
   "cell_type": "markdown",
   "id": "30f295aa",
   "metadata": {},
   "source": [
    "conclusion: we reject the null hypothesis. average score differes from 100\n",
    "\n"
   ]
  },
  {
   "cell_type": "markdown",
   "id": "60f6464b",
   "metadata": {},
   "source": [
    "\n",
    "In a packing plant, a machine packs cartons with jars. It is supposed that a new machine will pack \n",
    "faster on the average than the machine currently used. To test that hypothesis, the times it takes \n",
    "each machine to pack ten cartons are recorded. The results, in seconds, are shown in the tables \n",
    "in the file Data/machine.txt. Assume that there is sufficient evidence to conduct the t test, \n",
    "does the data provide sufficient evidence to show if one machine is better than the other\n",
    "\n"
   ]
  },
  {
   "cell_type": "code",
   "execution_count": 52,
   "id": "86e92704",
   "metadata": {},
   "outputs": [],
   "source": [
    "## H0: s2 < s1\n",
    "sample_size = 10"
   ]
  },
  {
   "cell_type": "code",
   "execution_count": 53,
   "id": "2a7a2118",
   "metadata": {},
   "outputs": [],
   "source": [
    "df = pd.read_csv(\"Data_Machine.txt\")"
   ]
  },
  {
   "cell_type": "code",
   "execution_count": 54,
   "id": "cb33a3e5",
   "metadata": {},
   "outputs": [
    {
     "data": {
      "text/plain": [
       "Index(['New Machine\\t  Old Machine'], dtype='object')"
      ]
     },
     "execution_count": 54,
     "metadata": {},
     "output_type": "execute_result"
    }
   ],
   "source": [
    "df.columns"
   ]
  },
  {
   "cell_type": "code",
   "execution_count": 55,
   "id": "18186106",
   "metadata": {},
   "outputs": [],
   "source": [
    "df = df['New Machine\\t  Old Machine'].str.split('\\t', 1, expand=True).rename(columns={0:'New Machine', 1:'Old Machine'})\n"
   ]
  },
  {
   "cell_type": "code",
   "execution_count": 56,
   "id": "75b62e73",
   "metadata": {},
   "outputs": [],
   "source": [
    "df[\"New Machine\"] = pd.to_numeric(df[\"New Machine\"])\n",
    "df[\"Old Machine\"] = pd.to_numeric(df[\"Old Machine\"])\n"
   ]
  },
  {
   "cell_type": "code",
   "execution_count": 65,
   "id": "db787e62",
   "metadata": {},
   "outputs": [
    {
     "data": {
      "text/plain": [
       "42.14"
      ]
     },
     "execution_count": 65,
     "metadata": {},
     "output_type": "execute_result"
    }
   ],
   "source": [
    "new_mean = df[\"New Machine\"].mean()\n",
    "new_mean"
   ]
  },
  {
   "cell_type": "code",
   "execution_count": 66,
   "id": "8f10550f",
   "metadata": {},
   "outputs": [
    {
     "data": {
      "text/plain": [
       "43.230000000000004"
      ]
     },
     "execution_count": 66,
     "metadata": {},
     "output_type": "execute_result"
    }
   ],
   "source": [
    "old_mean = df[\"Old Machine\"].mean()\n",
    "old_mean"
   ]
  },
  {
   "cell_type": "code",
   "execution_count": 59,
   "id": "ab5c2dd5",
   "metadata": {},
   "outputs": [],
   "source": [
    "new_std = df[\"New Machine\"].std()"
   ]
  },
  {
   "cell_type": "code",
   "execution_count": 60,
   "id": "26acb2fd",
   "metadata": {},
   "outputs": [],
   "source": [
    "old_std = df[\"Old Machine\"].std()"
   ]
  },
  {
   "cell_type": "code",
   "execution_count": 61,
   "id": "7e0f6b0d",
   "metadata": {},
   "outputs": [],
   "source": [
    "t = (new_mean-old_mean)/np.sqrt((new_std+old_std)/sample_size)"
   ]
  },
  {
   "cell_type": "code",
   "execution_count": 62,
   "id": "ae37518a",
   "metadata": {},
   "outputs": [
    {
     "data": {
      "text/plain": [
       "-2.879063595913154"
      ]
     },
     "execution_count": 62,
     "metadata": {},
     "output_type": "execute_result"
    }
   ],
   "source": [
    "t"
   ]
  },
  {
   "cell_type": "code",
   "execution_count": 63,
   "id": "b41bb159",
   "metadata": {},
   "outputs": [
    {
     "data": {
      "text/plain": [
       "2.2621571627409915"
      ]
     },
     "execution_count": 63,
     "metadata": {},
     "output_type": "execute_result"
    }
   ],
   "source": [
    "tc = stats.t.ppf(1-(0.05/2),df=9) \n",
    "tc"
   ]
  },
  {
   "cell_type": "code",
   "execution_count": 64,
   "id": "98e2becf",
   "metadata": {},
   "outputs": [
    {
     "data": {
      "image/png": "[encoded data removed]",
      "text/plain": [
       "<Figure size 432x288 with 1 Axes>"
      ]
     },
     "metadata": {
      "needs_background": "light"
     },
     "output_type": "display_data"
    }
   ],
   "source": [
    "visual_test(t,tc,dist = 't',df=9)\n"
   ]
  },
  {
   "cell_type": "markdown",
   "id": "01d7f515",
   "metadata": {},
   "source": [
    "conclusion: we accept the null hypothesis. \n"
   ]
  },
  {
   "cell_type": "code",
   "execution_count": null,
   "id": "baa615c7",
   "metadata": {},
   "outputs": [],
   "source": []
  }
 ],
 "metadata": {
  "kernelspec": {
   "display_name": "Python 3 (ipykernel)",
   "language": "python",
   "name": "python3"
  },
  "language_info": {
   "codemirror_mode": {
    "name": "ipython",
    "version": 3
   },
   "file_extension": ".py",
   "mimetype": "text/x-python",
   "name": "python",
   "nbconvert_exporter": "python",
   "pygments_lexer": "ipython3",
   "version": "3.9.7"
  }
 },
 "nbformat": 4,
 "nbformat_minor": 5
}

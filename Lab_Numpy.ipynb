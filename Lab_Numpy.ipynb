{
 "cells": [
  {
   "cell_type": "markdown",
   "id": "dda85f82",
   "metadata": {},
   "source": [
    "#### 1. Import the numpy package under the name `np` (★☆☆)\n"
   ]
  },
  {
   "cell_type": "code",
   "execution_count": 1,
   "id": "c5c48857",
   "metadata": {},
   "outputs": [],
   "source": [
    "import numpy as np"
   ]
  },
  {
   "cell_type": "markdown",
   "id": "ddfbf737",
   "metadata": {},
   "source": [
    "#### 2. Create a null vector of size 10 (★☆☆)\n"
   ]
  },
  {
   "cell_type": "code",
   "execution_count": 4,
   "id": "11f1ea7d",
   "metadata": {},
   "outputs": [
    {
     "data": {
      "text/plain": [
       "array([0., 0., 0., 0., 0., 0., 0., 0., 0., 0.])"
      ]
     },
     "execution_count": 4,
     "metadata": {},
     "output_type": "execute_result"
    }
   ],
   "source": [
    "np.zeros(10)"
   ]
  },
  {
   "cell_type": "markdown",
   "id": "47fd4054",
   "metadata": {},
   "source": [
    "#### 3. Create a null vector of size 10 but the fifth value which is 1 (★☆☆)\n"
   ]
  },
  {
   "cell_type": "code",
   "execution_count": 5,
   "id": "e24fafb1",
   "metadata": {},
   "outputs": [
    {
     "name": "stdout",
     "output_type": "stream",
     "text": [
      "[0. 0. 0. 0. 1. 0. 0. 0. 0. 0.]\n"
     ]
    }
   ],
   "source": [
    "x = np.zeros(10)\n",
    "x[4] = 1\n",
    "print(x)"
   ]
  },
  {
   "cell_type": "markdown",
   "id": "6ca579a5",
   "metadata": {},
   "source": [
    "#### 4. Create a vector with values ranging from 10 to 49 (★☆☆)\n"
   ]
  },
  {
   "cell_type": "code",
   "execution_count": 6,
   "id": "6acdc389",
   "metadata": {},
   "outputs": [
    {
     "name": "stdout",
     "output_type": "stream",
     "text": [
      "[10 11 12 13 14 15 16 17 18 19 20 21 22 23 24 25 26 27 28 29 30 31 32 33\n",
      " 34 35 36 37 38 39 40 41 42 43 44 45 46 47 48 49]\n"
     ]
    }
   ],
   "source": [
    "y = np.arange(10,50)\n",
    "print(y)"
   ]
  },
  {
   "cell_type": "markdown",
   "id": "94385059",
   "metadata": {},
   "source": [
    "#### 5. Create a 3x3 matrix with values ranging from 0 to 8 (★☆☆)\n"
   ]
  },
  {
   "cell_type": "code",
   "execution_count": 16,
   "id": "1b12b7ed",
   "metadata": {},
   "outputs": [
    {
     "name": "stdout",
     "output_type": "stream",
     "text": [
      "[[0 1 2]\n",
      " [3 4 5]\n",
      " [6 7 8]]\n"
     ]
    }
   ],
   "source": [
    "z = np.arange(0, 9).reshape(3,3)\n",
    "print(z)"
   ]
  },
  {
   "cell_type": "markdown",
   "id": "f2add54b",
   "metadata": {},
   "source": [
    "#### 6. Find indices of non-zero elements from [1,2,0,0,4,0] (★☆☆)\n"
   ]
  },
  {
   "cell_type": "code",
   "execution_count": 17,
   "id": "84a6bf86",
   "metadata": {},
   "outputs": [
    {
     "name": "stdout",
     "output_type": "stream",
     "text": [
      "(array([0, 1, 4]),)\n"
     ]
    }
   ],
   "source": [
    "i = [1,2,0,0,4,0]\n",
    "m = np.nonzero(i)\n",
    "print(m)"
   ]
  },
  {
   "cell_type": "markdown",
   "id": "21b96a8f",
   "metadata": {},
   "source": [
    "#### 7. Create a 3x3 identity matrix (★☆☆)\n"
   ]
  },
  {
   "cell_type": "code",
   "execution_count": 20,
   "id": "7dc533a7",
   "metadata": {},
   "outputs": [
    {
     "name": "stdout",
     "output_type": "stream",
     "text": [
      "[[1. 0. 0.]\n",
      " [0. 1. 0.]\n",
      " [0. 0. 1.]]\n"
     ]
    }
   ],
   "source": [
    "print(np.eye(3))"
   ]
  },
  {
   "cell_type": "markdown",
   "id": "78d6b129",
   "metadata": {},
   "source": [
    "#### 8. Create a 3x3x3 array with random values (★☆☆)\n"
   ]
  },
  {
   "cell_type": "code",
   "execution_count": 23,
   "id": "0d846f57",
   "metadata": {},
   "outputs": [
    {
     "name": "stdout",
     "output_type": "stream",
     "text": [
      "[[[0.93034568 0.87019201 0.48786956]\n",
      "  [0.17533824 0.61513781 0.67071711]\n",
      "  [0.73690837 0.93578358 0.63388668]]\n",
      "\n",
      " [[0.61579107 0.55408781 0.75764637]\n",
      "  [0.48427798 0.03077968 0.87031926]\n",
      "  [0.24741188 0.86369245 0.82239471]]\n",
      "\n",
      " [[0.85679339 0.47333496 0.95659714]\n",
      "  [0.72847576 0.06736293 0.63607624]\n",
      "  [0.26088155 0.93116471 0.28883585]]]\n"
     ]
    }
   ],
   "source": [
    "f = np.random.random((3,3,3))\n",
    "print(f)"
   ]
  },
  {
   "cell_type": "markdown",
   "id": "6c53e52b",
   "metadata": {},
   "source": [
    "#### 9. Create a 10x10 array with random values and find the minimum and maximum values (★☆☆)\n"
   ]
  },
  {
   "cell_type": "code",
   "execution_count": 31,
   "id": "1376cf85",
   "metadata": {},
   "outputs": [
    {
     "name": "stdout",
     "output_type": "stream",
     "text": [
      "[[0.94828676 0.29025506 0.95813171 0.00360653 0.35031189 0.88663996\n",
      "  0.2390647  0.84051637 0.86354107 0.41815528]\n",
      " [0.39721827 0.80931497 0.7605494  0.04665721 0.50221818 0.12849354\n",
      "  0.74984125 0.22564882 0.51380511 0.061987  ]\n",
      " [0.43864134 0.33578243 0.54058059 0.96990451 0.32110502 0.0027569\n",
      "  0.76260926 0.65776184 0.31411558 0.89764805]\n",
      " [0.76719298 0.56592049 0.3082357  0.48405558 0.59763941 0.41894339\n",
      "  0.72587782 0.46199458 0.25515008 0.28096711]\n",
      " [0.52732004 0.11827955 0.52102432 0.57792767 0.99326069 0.46359098\n",
      "  0.26807843 0.63179    0.68810546 0.65095687]\n",
      " [0.5303548  0.41298418 0.54582153 0.75332119 0.12363993 0.24660362\n",
      "  0.38446816 0.18545735 0.87818476 0.62839089]\n",
      " [0.60216094 0.66254881 0.51276341 0.04656654 0.57827306 0.04251289\n",
      "  0.55717676 0.68241821 0.25202049 0.03373038]\n",
      " [0.53099733 0.16608391 0.86329606 0.75346045 0.15987162 0.64069592\n",
      "  0.34724064 0.02243437 0.31925813 0.40230126]\n",
      " [0.09800068 0.98476083 0.08660302 0.98234701 0.41854616 0.214149\n",
      "  0.80791133 0.0477719  0.36360961 0.48187472]\n",
      " [0.07186498 0.96675221 0.87607881 0.65563658 0.37541169 0.47852917\n",
      "  0.52197914 0.94729423 0.43914297 0.75589093]]\n",
      "0.0027568955248280513\n",
      "0.9932606924018932\n"
     ]
    }
   ],
   "source": [
    "p = np.random.random((10,10))\n",
    "print(p)\n",
    "print(p.min())\n",
    "print(p.max())"
   ]
  },
  {
   "cell_type": "markdown",
   "id": "f5e0a718",
   "metadata": {},
   "source": [
    "#### 10. Create a random vector of size 30 and find the mean value (★☆☆)\n"
   ]
  },
  {
   "cell_type": "code",
   "execution_count": 32,
   "id": "99221ad7",
   "metadata": {},
   "outputs": [
    {
     "name": "stdout",
     "output_type": "stream",
     "text": [
      "0.5132400727789808\n"
     ]
    }
   ],
   "source": [
    "k = np.random.random(30)\n",
    "print(k.mean())"
   ]
  },
  {
   "cell_type": "markdown",
   "id": "6befdb3f",
   "metadata": {},
   "source": [
    "#### 11. Create a 5x5 matrix with values 1,2,3,4 just below the diagonal (★☆☆)\n"
   ]
  },
  {
   "cell_type": "code",
   "execution_count": 36,
   "id": "5cd7e8ef",
   "metadata": {},
   "outputs": [
    {
     "data": {
      "text/plain": [
       "array([[0, 0, 0, 0, 0],\n",
       "       [1, 0, 0, 0, 0],\n",
       "       [0, 2, 0, 0, 0],\n",
       "       [0, 0, 3, 0, 0],\n",
       "       [0, 0, 0, 4, 0]])"
      ]
     },
     "execution_count": 36,
     "metadata": {},
     "output_type": "execute_result"
    }
   ],
   "source": [
    "np.diag([1,2,3,4], k=-1)"
   ]
  },
  {
   "cell_type": "markdown",
   "id": "5632d6c0",
   "metadata": {},
   "source": [
    "#### 12. Normalize a 5x5 random matrix (★☆☆)\n"
   ]
  },
  {
   "cell_type": "code",
   "execution_count": 41,
   "id": "ce7fce25",
   "metadata": {},
   "outputs": [
    {
     "name": "stdout",
     "output_type": "stream",
     "text": [
      "[[0.90911207 0.23815214 0.09091503 0.36924843 0.50383788]\n",
      " [0.27479161 0.05086157 0.68946421 0.42247638 0.37478837]\n",
      " [0.54392766 0.60987144 0.58349057 0.4431308  0.08082705]\n",
      " [0.9916268  0.97688573 0.18886433 0.09438284 0.2643242 ]\n",
      " [0.57530361 0.66946644 0.79287331 0.14418237 0.14972729]]\n",
      "0.9916268034950243\n",
      "0.05086157208522479\n",
      "[[0.91228977 0.19908322 0.0425754  0.33843392 0.48149771]\n",
      " [0.23802967 0.         0.6788119  0.39501333 0.34432267]\n",
      " [0.52411173 0.59420762 0.56616569 0.41696825 0.03185223]\n",
      " [1.         0.98433076 0.14669202 0.04626156 0.22690319]\n",
      " [0.55746325 0.65755499 0.78873211 0.09919669 0.10509074]]\n"
     ]
    }
   ],
   "source": [
    "t = np.random.random((5,5))\n",
    "print(t)\n",
    "print(t.max())\n",
    "print(t.min())\n",
    "t = (t-t.min())/(t.max()-t.min())\n",
    "print(t)"
   ]
  },
  {
   "cell_type": "markdown",
   "id": "0ca11886",
   "metadata": {},
   "source": [
    "#### 13. How to find common values between two arrays? (★☆☆)\n"
   ]
  },
  {
   "cell_type": "code",
   "execution_count": 42,
   "id": "11c7d6d0",
   "metadata": {},
   "outputs": [
    {
     "name": "stdout",
     "output_type": "stream",
     "text": [
      "[4 8]\n"
     ]
    }
   ],
   "source": [
    "array1 = [1,4,6,7,8]\n",
    "array2 = [3,4,8,9]\n",
    "print(np.intersect1d(array1,array2))"
   ]
  },
  {
   "cell_type": "markdown",
   "id": "a99a114f",
   "metadata": {},
   "source": [
    "#### 14. Create a random vector of size 10 and sort it (★★☆)\n"
   ]
  },
  {
   "cell_type": "code",
   "execution_count": 50,
   "id": "9872b156",
   "metadata": {},
   "outputs": [
    {
     "name": "stdout",
     "output_type": "stream",
     "text": [
      "[0.51741013 0.3805132  0.5089679  0.50899588 0.81334547 0.58299311\n",
      " 0.57811391 0.56432345 0.78926676 0.72438417]\n",
      "[0.3805131980283766, 0.5089678950888321, 0.5089958760914368, 0.5174101251877042, 0.56432345209282, 0.5781139142186256, 0.5829931094030543, 0.7243841727959504, 0.7892667560128418, 0.8133454703402996]\n"
     ]
    }
   ],
   "source": [
    "u = np.random.random(10)\n",
    "print(u)\n",
    "print(sorted(u))"
   ]
  },
  {
   "cell_type": "markdown",
   "id": "ea78a697",
   "metadata": {},
   "source": [
    "#### 15. Create random vector of size 10 and replace the maximum value by 0 (★★☆)\n"
   ]
  },
  {
   "cell_type": "code",
   "execution_count": 53,
   "id": "e04e5204",
   "metadata": {
    "scrolled": true
   },
   "outputs": [
    {
     "name": "stdout",
     "output_type": "stream",
     "text": [
      "[0.72318784 0.28992542 0.17610008 0.95765883 0.54887292 0.45601131\n",
      " 0.31804871 0.68019712 0.19285706 0.58156227]\n",
      "[0.72318784 0.28992542 0.17610008 0.         0.54887292 0.45601131\n",
      " 0.31804871 0.68019712 0.19285706 0.58156227]\n"
     ]
    }
   ],
   "source": [
    "q = np.random.random(10)\n",
    "print(q)\n",
    "q[q.argmax()] = 0\n",
    "print(q)"
   ]
  },
  {
   "cell_type": "markdown",
   "id": "169e637b",
   "metadata": {},
   "source": [
    "#### 16. Subtract the mean of each row of a matrix (★★☆)\n"
   ]
  },
  {
   "cell_type": "code",
   "execution_count": 65,
   "id": "73cbe6f2",
   "metadata": {},
   "outputs": [
    {
     "name": "stdout",
     "output_type": "stream",
     "text": [
      "[[0.68428717 0.76581958]\n",
      " [0.36957687 0.25410536]]\n",
      "[[-0.0407662   0.0407662 ]\n",
      " [ 0.05773575 -0.05773575]]\n"
     ]
    }
   ],
   "source": [
    "rr = np.random.random((2,2))\n",
    "print(rr)\n",
    "h=rr - rr.mean(axis=1,keepdims=True)\n",
    "print(h)"
   ]
  },
  {
   "cell_type": "markdown",
   "id": "b14f6a25",
   "metadata": {},
   "source": [
    "#### 17. How to get the n largest values of an array (★★★)\n"
   ]
  },
  {
   "cell_type": "code",
   "execution_count": 73,
   "id": "4b894bb8",
   "metadata": {},
   "outputs": [
    {
     "name": "stdout",
     "output_type": "stream",
     "text": [
      "[  3   5 777  44   2 343]\n",
      "[4 0 1 3 5 2]\n",
      "[  2   3   5  44 343 777]\n",
      "[343 777]\n"
     ]
    }
   ],
   "source": [
    "zzz = np.array([3,5,777,44,2,343])\n",
    "print(zzz)\n",
    "sorted_index_zzz = np.argsort(zzz)\n",
    "print(sorted_index_zzz)\n",
    "sorted_zzz = zzz[sorted_index_zzz]\n",
    "print(sorted_zzz)\n",
    "n=2\n",
    "result = sorted_zzz[-n:]\n",
    "print(result)"
   ]
  },
  {
   "cell_type": "markdown",
   "id": "9eb1f969",
   "metadata": {},
   "source": [
    "#### 18. Create a random 5*3 matrix and replace items that are larger than 4 by their squares ( Example:  6 --> 36) \n"
   ]
  },
  {
   "cell_type": "code",
   "execution_count": 90,
   "id": "d4bc78e3",
   "metadata": {},
   "outputs": [
    {
     "name": "stdout",
     "output_type": "stream",
     "text": [
      "[[ 1  5  7]\n",
      " [ 3  5  7]\n",
      " [ 2  9 22]\n",
      " [ 4  6  7]\n",
      " [ 3  2  7]]\n",
      "[[  1  25  49]\n",
      " [  3  25  49]\n",
      " [  2  81 484]\n",
      " [  4  36  49]\n",
      " [  3   2  49]]\n"
     ]
    }
   ],
   "source": [
    "ddd = [[1,5,7],[3,5,7],[2,9,22],[4,6,7],[3,2,7]]\n",
    "eee = np.array(ddd)\n",
    "print(eee)\n",
    "eee = np.where(eee>4,eee**2,eee)\n",
    "print(eee)\n",
    "    "
   ]
  },
  {
   "cell_type": "code",
   "execution_count": null,
   "id": "505ddcd1",
   "metadata": {},
   "outputs": [],
   "source": []
  }
 ],
 "metadata": {
  "kernelspec": {
   "display_name": "Python 3 (ipykernel)",
   "language": "python",
   "name": "python3"
  },
  "language_info": {
   "codemirror_mode": {
    "name": "ipython",
    "version": 3
   },
   "file_extension": ".py",
   "mimetype": "text/x-python",
   "name": "python",
   "nbconvert_exporter": "python",
   "pygments_lexer": "ipython3",
   "version": "3.9.7"
  }
 },
 "nbformat": 4,
 "nbformat_minor": 5
}
